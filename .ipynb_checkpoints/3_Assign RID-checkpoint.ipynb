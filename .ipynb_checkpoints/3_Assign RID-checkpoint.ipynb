{
 "cells": [
  {
   "cell_type": "markdown",
   "metadata": {},
   "source": [
    "# Step 3: \n",
    "# Assign RID to Individuals, Work and Education Sites"
   ]
  },
  {
   "cell_type": "markdown",
   "metadata": {},
   "source": [
    "This code is used to re-assign the roadID for each workplace. The distance function in geopandas fialed to generate the correct distance, so I create a new distance function in this code"
   ]
  },
  {
   "cell_type": "code",
   "execution_count": 1,
   "metadata": {},
   "outputs": [],
   "source": [
    "import geopandas as gpd\n",
    "import pandas as pd\n",
    "import numpy as np\n",
    "import timeit\n",
    "import multiprocessing\n",
    "from math import sin, cos, sqrt, atan2, radians"
   ]
  },
  {
   "cell_type": "markdown",
   "metadata": {},
   "source": [
    "## 1 Load Data"
   ]
  },
  {
   "cell_type": "markdown",
   "metadata": {},
   "source": [
    "### 1.1 Data needs Road ID"
   ]
  },
  {
   "cell_type": "code",
   "execution_count": null,
   "metadata": {},
   "outputs": [],
   "source": [
    "#For home work and eudcation should be point shp file\n",
    "#home point\n",
    "indi = gpd.read_file('your individual file name')\n",
    "\n",
    "#work point\n",
    "work  = gpd.read_file('your work file name')\n",
    "\n",
    "#education\n",
    "edu = gpd.read_file('your  education file name')"
   ]
  },
  {
   "cell_type": "markdown",
   "metadata": {},
   "source": [
    "## 1.2 Road Data "
   ]
  },
  {
   "cell_type": "markdown",
   "metadata": {},
   "source": [
    "### 1.2.1 Frome Polyline to Point\n",
    "Create the center point of each road line and create a unique \"RoadID\" which will be assiged to individuals, work and education site"
   ]
  },
  {
   "cell_type": "code",
   "execution_count": null,
   "metadata": {},
   "outputs": [],
   "source": [
    "#read road line file\n",
    "rl = gpd.read_file('your road line file')"
   ]
  },
  {
   "cell_type": "code",
   "execution_count": null,
   "metadata": {},
   "outputs": [],
   "source": [
    "### 1.2.2 Create center point function"
   ]
  },
  {
   "cell_type": "code",
   "execution_count": null,
   "metadata": {},
   "outputs": [],
   "source": [
    "def getXY(pt):\n",
    "    return (pt.x, pt.y)\n",
    "\n",
    "def gen_center_point(line):\n",
    "    #get the center points' lat and long\n",
    "    centroidseries = line['geometry'].centroid\n",
    "    x,y = [list(t) for t in zip(*map(getXY, centroidseries))]\n",
    "    #get Road point ID\n",
    "    rid = line['ID']\n",
    "    #get State\n",
    "    st = line['STATEFP']\n",
    "    df = pd.DataFrame({'RDID': rid, 'STATE': st, 'Long': x, 'Lat': y})\n",
    "    return df"
   ]
  },
  {
   "cell_type": "markdown",
   "metadata": {},
   "source": [
    "## 2, Assign RID Functions"
   ]
  },
  {
   "cell_type": "markdown",
   "metadata": {},
   "source": [
    "### 2.1 Distance function "
   ]
  },
  {
   "cell_type": "code",
   "execution_count": 9,
   "metadata": {},
   "outputs": [],
   "source": [
    "def new_distance(x1, y1, x2, y2):\n",
    "    # approximate radius of earth in km\n",
    "    R = 6373.0\n",
    "    \n",
    "    lat1 = radians (x1)\n",
    "    long1 = radians (y1)\n",
    "    lat2 = radians(x2)\n",
    "    long2 = radians(y2)\n",
    "    \n",
    "    dlon = long2 - long1\n",
    "    dlat = lat2 - lat1\n",
    "    \n",
    "    a = sin(dlat / 2)**2 + cos(lat1) * cos(lat2) * sin(dlon / 2)**2\n",
    "    c = 2 * atan2(sqrt(a), sqrt(1 - a))\n",
    "\n",
    "    distance = R * c\n",
    "    return distance"
   ]
  },
  {
   "cell_type": "code",
   "execution_count": 10,
   "metadata": {},
   "outputs": [],
   "source": [
    "def assign_rid(data, road):\n",
    "    #Geo Location\n",
    "    d_geometry = data.geometry\n",
    "    #print(d_geometry)\n",
    "    \n",
    "    #Create Buffer for each Home or Work Point\n",
    "    buff = data.geometry.buffer(0.001)\n",
    "    # Lat and Long\n",
    "    x = data.lat\n",
    "    y = data.long\n",
    "    #print(\"Site Lat\",x)\n",
    "    #print(\"Site Long\", y)\n",
    "    \n",
    "    #Find Intersected points\n",
    "    r_in = road[road.intersects(buff)].copy()\n",
    "    #print(\"Intersected road points numbers:\", len(r_in))\n",
    "\n",
    "    if r_in.empty:\n",
    "        #print(data.wrkID, \"First Empty\")\n",
    "        buff = data.geometry.buffer(0.02)\n",
    "        r_in = road[road.intersects(buff)].copy()\n",
    "        #Intersect Road Point Lat list\n",
    "        rx = r_in.loc[:,'Lat'].tolist()\n",
    "        #Intersect Road Point Long list\n",
    "        ry = r_in.loc[:, 'Long'].tolist()\n",
    "        \n",
    "        #Calculate Distance between the point and intersected road points \n",
    "        dist = []\n",
    "        for j in range(0, len(r_in)):\n",
    "            d = new_distance(x, y, rx[j], ry[j])\n",
    "            dist.append(d)  \n",
    "        #print(\"Distance list's length\",len(dist))\n",
    "            \n",
    "        rid = r_in.loc[:,'RDID']\n",
    "        #Create DF\n",
    "        df_rd = pd.DataFrame({'RDID': rid, 'Dist':dist}).sort_values(by='Dist')\n",
    "        #print(df_rd.head(1))\n",
    "        #print(df_rd.iloc[0, 0])\n",
    "        #r_id.append(df_rd.iloc[0, 0])\n",
    "        return df_rd.iloc[0, 0]\n",
    "    \n",
    "    else:\n",
    "        #Intersect Road Point Lat list\n",
    "        rx = r_in.loc[:,'Lat'].tolist()\n",
    "        #Intersect Road Point Long list\n",
    "        ry = r_in.loc[:, 'Long'].tolist()\n",
    "        \n",
    "        #Calculate Distance between the point and intersected road points \n",
    "        dist = []\n",
    "        for j in range(0, len(r_in)):\n",
    "            d = new_distance(x, y, rx[j], ry[j])\n",
    "            dist.append(d)  \n",
    "        #print(\"Distance list's length\",len(dist))\n",
    "            \n",
    "        rid = r_in.loc[:,'RDID']\n",
    "        #Create DF\n",
    "        df_rd = pd.DataFrame({'RDID': rid, 'Dist':dist}).sort_values(by='Dist')\n",
    "        #print(df_rd.head(1))\n",
    "        #print(df_rd.iloc[0, 0])\n",
    "        #r_id.append(df_rd.iloc[0, 0])\n",
    "        return df_rd.iloc[0, 0]"
   ]
  },
  {
   "cell_type": "code",
   "execution_count": 11,
   "metadata": {},
   "outputs": [],
   "source": [
    "def go(data):\n",
    "    data['RID'] = data.apply(assign_rid, args=(road,),axis=1)\n",
    "    return data\n",
    "    \n",
    "def parallelize(data, func):\n",
    "    #Cores\n",
    "    num_cores = multiprocessing.cpu_count()-1\n",
    "    num_partitions = num_cores\n",
    "    #Split\n",
    "    data_split = np.array_split(data, num_partitions)\n",
    "    #Pools\n",
    "    pool = multiprocessing.Pool(num_cores)\n",
    "    \n",
    "    df = pd.concat(pool.map(func, data_split))\n",
    "    return df\n",
    "\n",
    "    pool.close()\n",
    "    pool.join()"
   ]
  },
  {
   "cell_type": "markdown",
   "metadata": {},
   "source": [
    "## 3, Apply Function"
   ]
  },
  {
   "cell_type": "code",
   "execution_count": null,
   "metadata": {},
   "outputs": [
    {
     "name": "stdout",
     "output_type": "stream",
     "text": [
      "Start running...\n"
     ]
    }
   ],
   "source": [
    "#Apply \n",
    "if __name__=='__main__':\n",
    "    print('Start running...')\n",
    "    #set timer\n",
    "    start_time = timeit.default_timer()\n",
    "    \n",
    "    #apply\n",
    "    #individual\n",
    "    indi_r = parallelize(indi, go)\n",
    "    \n",
    "    #Work\n",
    "    work_r = parallelize(work, go)\n",
    "    \n",
    "    #Euducation sites\n",
    "    edu_r = parallelize(edu, go)\n",
    "    \n",
    "    # Save to csv\n",
    "    indi_r.to_csv('where you save file')\n",
    "    work_r.to_csv('where you save file')\n",
    "    edu_r.to_csv('where you save file')\n",
    "    \n",
    "    #return time\n",
    "    elapsed = timeit.default_timer() - start_time\n",
    "    print(\"Total Time(s):\", elapsed)\n",
    "    print('End program')"
   ]
  },
  {
   "cell_type": "code",
   "execution_count": null,
   "metadata": {},
   "outputs": [],
   "source": []
  }
 ],
 "metadata": {
  "kernelspec": {
   "display_name": "Python 3",
   "language": "python",
   "name": "python3"
  },
  "language_info": {
   "codemirror_mode": {
    "name": "ipython",
    "version": 3
   },
   "file_extension": ".py",
   "mimetype": "text/x-python",
   "name": "python",
   "nbconvert_exporter": "python",
   "pygments_lexer": "ipython3",
   "version": "3.7.4"
  }
 },
 "nbformat": 4,
 "nbformat_minor": 4
}
