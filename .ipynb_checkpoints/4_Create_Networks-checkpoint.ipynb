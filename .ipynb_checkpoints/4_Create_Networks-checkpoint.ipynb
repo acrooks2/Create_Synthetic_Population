{
 "cells": [
  {
   "cell_type": "markdown",
   "metadata": {},
   "source": [
    "# Step 4:\n",
    "# Create Networks for all Individuals Based on Work, Home and Education"
   ]
  },
  {
   "cell_type": "code",
   "execution_count": 1,
   "metadata": {},
   "outputs": [],
   "source": [
    "import networkx as nx\n",
    "import pandas as pd\n",
    "import numpy as np\n",
    "import matplotlib.pyplot as plt\n",
    "import collections\n",
    "import csv"
   ]
  },
  {
   "cell_type": "markdown",
   "metadata": {},
   "source": [
    "## 1, Load Data"
   ]
  },
  {
   "cell_type": "code",
   "execution_count": 21,
   "metadata": {},
   "outputs": [],
   "source": [
    "#Full pop\n",
    "fpop = pd.read_csv('your population file')"
   ]
  },
  {
   "cell_type": "markdown",
   "metadata": {},
   "source": [
    "## 2, Functions Creating Different types of Networks "
   ]
  },
  {
   "cell_type": "code",
   "execution_count": 2,
   "metadata": {},
   "outputs": [],
   "source": [
    "def create_edges(x, g):\n",
    "    if len(x) <= 5:\n",
    "        sw = nx.complete_graph(len(x))\n",
    "    else:\n",
    "        sw = nx.newman_watts_strogatz_graph(len(x), 4, 0.3)\n",
    "    sw = nx.relabel_nodes(sw, dict(zip(sw.nodes(), x.index.values)))# what's this line for?\n",
    "    g.add_edges_from(sw.edges())"
   ]
  },
  {
   "cell_type": "code",
   "execution_count": 3,
   "metadata": {},
   "outputs": [],
   "source": [
    "def create_network(people, type):\n",
    "    g = nx.Graph()\n",
    "    g.add_nodes_from(people.index)\n",
    "    if type == \"school\":\n",
    "        grouped = people[people.age < 18].groupby('wp')\n",
    "        grouped.apply(lambda x: create_edges(x, g))\n",
    "    if type == 'work':\n",
    "        grouped = people[people.age >= 18].groupby('wp')\n",
    "        grouped.apply(lambda x: create_edges(x, g))\n",
    "    if type == 'hhold':\n",
    "        grouped = people.groupby('hhold')\n",
    "        grouped.apply(lambda x: create_edges(x, g))\n",
    "    return g"
   ]
  },
  {
   "cell_type": "code",
   "execution_count": 4,
   "metadata": {},
   "outputs": [],
   "source": [
    "def get_neighbors(x, g):\n",
    "    return [n for n in g.neighbors(x)]\n",
    "\n",
    "def to_csv(g, output_name):\n",
    "    col1 = list(pop.index)\n",
    "    col2 = pop.index.map(lambda x: get_neighbors(x, g))\n",
    "    col2 = list(col2)\n",
    "    for i in range(len(col2)):\n",
    "        col2[i] = [col1[i]] + col2[i]\n",
    "    with open(output_name + '.csv', 'w') as f:\n",
    "        writer = csv.writer(f)\n",
    "        writer.writerows(col2)"
   ]
  },
  {
   "cell_type": "markdown",
   "metadata": {},
   "source": [
    "### 2.1 Daycare Network"
   ]
  },
  {
   "cell_type": "code",
   "execution_count": 8,
   "metadata": {},
   "outputs": [],
   "source": [
    "#Get daycare popualtion\n",
    "dk = pop[pop.wp.str.contains('d')].copy()\n",
    "dk.shape"
   ]
  },
  {
   "cell_type": "code",
   "execution_count": 20,
   "metadata": {},
   "outputs": [
    {
     "name": "stdout",
     "output_type": "stream",
     "text": [
      "creating daycare network...\n",
      "the number of edges are: 2319025\n",
      "done creating school network, writing to school graph\n"
     ]
    }
   ],
   "source": [
    "#### Create Daycare Network\n",
    "print(\"creating daycare network...\")\n",
    "daycare = create_network(dk, \"school\")\n",
    "print(\"the number of edges are: \" + str(len(daycare.edges())))\n",
    "print(\"done creating school network, writing to school graph\")"
   ]
  },
  {
   "cell_type": "code",
   "execution_count": 25,
   "metadata": {},
   "outputs": [
    {
     "name": "stdout",
     "output_type": "stream",
     "text": [
      "converting school network to .csv\n",
      "Done!\n"
     ]
    }
   ],
   "source": [
    "#Save to csv\n",
    "print(\"converting school network to .csv\")\n",
    "pop = df\n",
    "to_csv(daycare, \"daycare_nw\")\n",
    "print(\"Done!\")"
   ]
  },
  {
   "cell_type": "code",
   "execution_count": 29,
   "metadata": {},
   "outputs": [],
   "source": [
    "#Degree of Distribution\n",
    "degree_sequence = sorted([d for n, d in daycare.degree()], reverse=True)  # degree sequence\n",
    "#print (\"Degree sequence\", degree_sequence)\n",
    "degreeCount = collections.Counter(degree_sequence)\n",
    "deg, cnt = zip(*degreeCount.items())"
   ]
  },
  {
   "cell_type": "code",
   "execution_count": 30,
   "metadata": {},
   "outputs": [
    {
     "data": {
      "image/png": "[encoded data removed]",
      "text/plain": [
       "<Figure size 864x576 with 1 Axes>"
      ]
     },
     "metadata": {
      "needs_background": "light"
     },
     "output_type": "display_data"
    }
   ],
   "source": [
    "figure, ax = plt.subplots(figsize=(12, 8))\n",
    "\n",
    "plt.bar(deg, cnt, width=0.80, color='#43a2ca')\n",
    "plt.title(\"Daycare Network Degree Histogram\", fontsize = 20, fontname = \"Arial\")\n",
    "plt.ylabel(\"Frequency\", fontsize = 16, fontname = \"Arial\")\n",
    "plt.xlabel(\"Degree\", fontsize = 16, fontname = \"Arial\")\n",
    "\n",
    "ax.set_xticks([d for d in deg])\n",
    "ax.set_xticklabels(deg)\n",
    "\n",
    "rects = ax.patches\n",
    "\n",
    "# For each bar: Place a label\n",
    "for rect in rects:\n",
    "    # Get X and Y placement of label from rect.\n",
    "    y_value = rect.get_height()\n",
    "    x_value = rect.get_x() + rect.get_width() / 2\n",
    "\n",
    "    # Number of points between bar and label. Change to your liking.\n",
    "    space = 5\n",
    "    # Vertical alignment for positive values\n",
    "    va = 'bottom'\n",
    "\n",
    "    # If value of bar is negative: Place label below bar\n",
    "    if y_value < 0:\n",
    "        # Invert space to place label below\n",
    "        space *= -1\n",
    "        # Vertically align label at top\n",
    "        va = 'top'\n",
    "\n",
    "    # Use Y value as label and format number with one decimal place\n",
    "    label = \"{:.1f}\".format(y_value)\n",
    "\n",
    "    # Create annotation\n",
    "    plt.annotate(\n",
    "        label,                      # Use `label` as label\n",
    "        (x_value, y_value),         # Place label at end of the bar\n",
    "        xytext=(0, space),          # Vertically shift label by `space`\n",
    "        textcoords=\"offset points\", # Interpret `xytext` as offset in points\n",
    "        ha='center',                # Horizontally center label\n",
    "        va=va)                      # Vertically align label differently for\n",
    "                                    # positive and negative values."
   ]
  },
  {
   "cell_type": "markdown",
   "metadata": {},
   "source": [
    "### 2.2, School Network"
   ]
  },
  {
   "cell_type": "code",
   "execution_count": 33,
   "metadata": {},
   "outputs": [],
   "source": [
    "#School Population\n",
    "kids = fpop[(fpop.age <=17) & (fpop.age >=4)].copy()"
   ]
  },
  {
   "cell_type": "code",
   "execution_count": 36,
   "metadata": {},
   "outputs": [
    {
     "name": "stdout",
     "output_type": "stream",
     "text": [
      "creating school network...\n",
      "the number of edges are: 10800261\n",
      "done creating school network, writing to school graph\n"
     ]
    }
   ],
   "source": [
    "print(\"creating school network...\")\n",
    "school = create_network(kids, \"school\")\n",
    "print(\"the number of edges are: \" + str(len(school.edges())))\n",
    "print(\"done creating school network, writing to school graph\")"
   ]
  },
  {
   "cell_type": "code",
   "execution_count": 37,
   "metadata": {},
   "outputs": [
    {
     "name": "stdout",
     "output_type": "stream",
     "text": [
      "converting school network to .csv\n",
      "Done!\n"
     ]
    }
   ],
   "source": [
    "#Save to csv\n",
    "print(\"converting school network to .csv\")\n",
    "pop = kids\n",
    "to_csv(school, \"school_nw\")\n",
    "print(\"Done!\")"
   ]
  },
  {
   "cell_type": "code",
   "execution_count": 22,
   "metadata": {},
   "outputs": [
    {
     "name": "stdout",
     "output_type": "stream",
     "text": [
      "Saving 1...\n",
      "Saving 2...\n",
      "Saving 3...\n",
      "Done...\n"
     ]
    }
   ],
   "source": [
    "#Not Run\n",
    "print('Saving 1...')\n",
    "nx.write_graphml(school, 'school/school.graphml')\n",
    "print('Saving 2...')\n",
    "nx.write_gexf(school, 'school/school.gexf')\n",
    "print('Saving 3...')\n",
    "nx.write_edgelist(school, 'school/school.edgelist')\n",
    "print('Done...')\n"
   ]
  },
  {
   "cell_type": "code",
   "execution_count": 38,
   "metadata": {},
   "outputs": [],
   "source": [
    "degree_sequence = sorted([d for n, d in school.degree()], reverse=True)  # degree sequence\n",
    "#print (\"Degree sequence\", degree_sequence)\n",
    "degreeCount = collections.Counter(degree_sequence)\n",
    "deg, cnt = zip(*degreeCount.items())"
   ]
  },
  {
   "cell_type": "code",
   "execution_count": 39,
   "metadata": {},
   "outputs": [
    {
     "data": {
      "image/png": "[encoded data removed]",
      "text/plain": [
       "<Figure size 864x576 with 1 Axes>"
      ]
     },
     "metadata": {
      "needs_background": "light"
     },
     "output_type": "display_data"
    }
   ],
   "source": [
    "figure, ax = plt.subplots(figsize=(12, 8))\n",
    "\n",
    "plt.bar(deg, cnt, width=0.80, color='#43a2ca')\n",
    "plt.title(\"School Network Degree Histogram\", fontsize = 20, fontname = \"Arial\")\n",
    "plt.ylabel(\"Frequency\", fontsize = 16, fontname = \"Arial\")\n",
    "plt.xlabel(\"Degree\", fontsize = 16, fontname = \"Arial\")\n",
    "\n",
    "ax.set_xticks([d for d in deg])\n",
    "ax.set_xticklabels(deg)\n",
    "\n",
    "rects = ax.patches\n",
    "\n",
    "# For each bar: Place a label\n",
    "for rect in rects:\n",
    "    # Get X and Y placement of label from rect.\n",
    "    y_value = rect.get_height()\n",
    "    x_value = rect.get_x() + rect.get_width() / 2\n",
    "\n",
    "    # Number of points between bar and label. Change to your liking.\n",
    "    space = 5\n",
    "    # Vertical alignment for positive values\n",
    "    va = 'bottom'\n",
    "\n",
    "    # If value of bar is negative: Place label below bar\n",
    "    if y_value < 0:\n",
    "        # Invert space to place label below\n",
    "        space *= -1\n",
    "        # Vertically align label at top\n",
    "        va = 'top'\n",
    "\n",
    "    # Use Y value as label and format number with one decimal place\n",
    "    label = \"{:.1f}\".format(y_value)\n",
    "\n",
    "    # Create annotation\n",
    "    plt.annotate(\n",
    "        label,                      # Use `label` as label\n",
    "        (x_value, y_value),         # Place label at end of the bar\n",
    "        xytext=(0, space),          # Vertically shift label by `space`\n",
    "        textcoords=\"offset points\", # Interpret `xytext` as offset in points\n",
    "        ha='center',                # Horizontally center label\n",
    "        va=va)                      # Vertically align label differently for\n",
    "                                    # positive and negative values."
   ]
  },
  {
   "cell_type": "markdown",
   "metadata": {},
   "source": [
    "### 2.3  Work Network, people work in the workplace"
   ]
  },
  {
   "cell_type": "code",
   "execution_count": 22,
   "metadata": {},
   "outputs": [],
   "source": [
    "adults = fpop[fpop.age>=18].copy()"
   ]
  },
  {
   "cell_type": "code",
   "execution_count": 23,
   "metadata": {},
   "outputs": [
    {
     "data": {
      "text/plain": [
       "(17697433, 10)"
      ]
     },
     "execution_count": 23,
     "metadata": {},
     "output_type": "execute_result"
    }
   ],
   "source": [
    "adults.shape"
   ]
  },
  {
   "cell_type": "code",
   "execution_count": 25,
   "metadata": {},
   "outputs": [],
   "source": [
    "#select people\n",
    "ad_work = adults[adults.wp.str.contains(\"w\")]"
   ]
  },
  {
   "cell_type": "code",
   "execution_count": 26,
   "metadata": {},
   "outputs": [
    {
     "data": {
      "text/plain": [
       "(9730906, 10)"
      ]
     },
     "execution_count": 26,
     "metadata": {},
     "output_type": "execute_result"
    }
   ],
   "source": [
    "#People Commute\n",
    "ad_work.shape"
   ]
  },
  {
   "cell_type": "code",
   "execution_count": 29,
   "metadata": {},
   "outputs": [
    {
     "name": "stdout",
     "output_type": "stream",
     "text": [
      "Creating workplace network...\n",
      "The number of edges are: 24415758\n",
      "Done creating workplace network, writing to work graph\n"
     ]
    }
   ],
   "source": [
    "#Workplaces Networks\n",
    "print(\"Creating workplace network...\")\n",
    "work = create_network(ad_work, \"work\")\n",
    "print(\"The number of edges are: \" + str(len(work.edges())))\n",
    "print(\"Done creating workplace network, writing to work graph\")"
   ]
  },
  {
   "cell_type": "code",
   "execution_count": null,
   "metadata": {},
   "outputs": [],
   "source": [
    "nx.write_graphml(work, 'work.graphml')\n",
    "nx.write_gexf(work, 'work.gexf')\n",
    "nx.write_edgelist(work, 'work.edgelist')"
   ]
  },
  {
   "cell_type": "code",
   "execution_count": 31,
   "metadata": {},
   "outputs": [
    {
     "name": "stdout",
     "output_type": "stream",
     "text": [
      "converting workplace network to .csv\n",
      "Done!\n"
     ]
    }
   ],
   "source": [
    "print(\"converting workplace network to .csv\")\n",
    "to_csv(work, \"work_nw_march\")\n",
    "print(\"Done!\")"
   ]
  },
  {
   "cell_type": "code",
   "execution_count": 30,
   "metadata": {},
   "outputs": [],
   "source": [
    "degree_sequence = sorted([d for n, d in work.degree()], reverse=True)  # degree sequence\n",
    "#print (\"Degree sequence\", degree_sequence)\n",
    "degreeCount = collections.Counter(degree_sequence)\n",
    "deg, cnt = zip(*degreeCount.items())"
   ]
  },
  {
   "cell_type": "code",
   "execution_count": 31,
   "metadata": {},
   "outputs": [
    {
     "data": {
      "image/png": "[encoded data removed]",
      "text/plain": [
       "<Figure size 864x576 with 1 Axes>"
      ]
     },
     "metadata": {
      "needs_background": "light"
     },
     "output_type": "display_data"
    }
   ],
   "source": [
    "figure, ax = plt.subplots(figsize=(12, 8))\n",
    "\n",
    "plt.bar(deg, cnt, width=0.80, color='#43a2ca')\n",
    "plt.title(\"Workplaces Network Degree Histogram\", fontsize = 20, fontname = \"Arial\")\n",
    "plt.ylabel(\"Frequency\", fontsize = 16, fontname = \"Arial\")\n",
    "plt.xlabel(\"Degree\", fontsize = 16, fontname = \"Arial\")\n",
    "\n",
    "ax.set_xticks([d for d in deg])\n",
    "ax.set_xticklabels(deg)\n",
    "\n",
    "rects = ax.patches\n",
    "\n",
    "# For each bar: Place a label\n",
    "for rect in rects:\n",
    "    # Get X and Y placement of label from rect.\n",
    "    y_value = rect.get_height()\n",
    "    x_value = rect.get_x() + rect.get_width() / 2\n",
    "    # Number of points between bar and label. Change to your liking.\n",
    "    space = 5\n",
    "    # Vertical alignment for positive values\n",
    "    va = 'bottom'\n",
    "\n",
    "    # If value of bar is negative: Place label below bar\n",
    "    if y_value < 0:\n",
    "        # Invert space to place label below\n",
    "        space *= -1\n",
    "        # Vertically align label at top\n",
    "        va = 'top'\n",
    "\n",
    "    # Use Y value as label and format number with one decimal place\n",
    "    label = \"{:.1f}\".format(y_value)\n",
    "\n",
    "    # Create annotation\n",
    "    plt.annotate(\n",
    "        label,                      # Use `label` as label\n",
    "        (x_value, y_value),         # Place label at end of the bar\n",
    "        xytext=(0, space),          # Vertically shift label by `space`\n",
    "        textcoords=\"offset points\", # Interpret `xytext` as offset in points\n",
    "        ha='center',                # Horizontally center label\n",
    "        va=va)                      # Vertically align label differently for\n",
    "                                    # positive and negative values."
   ]
  },
  {
   "cell_type": "markdown",
   "metadata": {},
   "source": [
    "### 2.4 Household Network"
   ]
  },
  {
   "cell_type": "code",
   "execution_count": 32,
   "metadata": {},
   "outputs": [
    {
     "data": {
      "text/plain": [
       "(22921302, 10)"
      ]
     },
     "execution_count": 32,
     "metadata": {},
     "output_type": "execute_result"
    }
   ],
   "source": [
    "pop.shape"
   ]
  },
  {
   "cell_type": "code",
   "execution_count": 33,
   "metadata": {},
   "outputs": [
    {
     "data": {
      "text/html": [
       "<div>\n",
       "<style scoped>\n",
       "    .dataframe tbody tr th:only-of-type {\n",
       "        vertical-align: middle;\n",
       "    }\n",
       "\n",
       "    .dataframe tbody tr th {\n",
       "        vertical-align: top;\n",
       "    }\n",
       "\n",
       "    .dataframe thead th {\n",
       "        text-align: right;\n",
       "    }\n",
       "</style>\n",
       "<table border=\"1\" class=\"dataframe\">\n",
       "  <thead>\n",
       "    <tr style=\"text-align: right;\">\n",
       "      <th></th>\n",
       "      <th>id</th>\n",
       "      <th>code</th>\n",
       "      <th>age</th>\n",
       "      <th>sex</th>\n",
       "      <th>hhold</th>\n",
       "      <th>htype</th>\n",
       "      <th>wp</th>\n",
       "      <th>tract</th>\n",
       "      <th>long</th>\n",
       "      <th>lat</th>\n",
       "    </tr>\n",
       "  </thead>\n",
       "  <tbody>\n",
       "    <tr>\n",
       "      <th>0</th>\n",
       "      <td>09001030300i1</td>\n",
       "      <td>19</td>\n",
       "      <td>9.0</td>\n",
       "      <td>f</td>\n",
       "      <td>09001030300h196</td>\n",
       "      <td>5</td>\n",
       "      <td>09001030300s2</td>\n",
       "      <td>9001030300</td>\n",
       "      <td>-73.497305</td>\n",
       "      <td>41.057494</td>\n",
       "    </tr>\n",
       "    <tr>\n",
       "      <th>1</th>\n",
       "      <td>09001030300i3</td>\n",
       "      <td>1</td>\n",
       "      <td>8.0</td>\n",
       "      <td>m</td>\n",
       "      <td>09001030300h197</td>\n",
       "      <td>5</td>\n",
       "      <td>09001030300s3</td>\n",
       "      <td>9001030300</td>\n",
       "      <td>-73.469835</td>\n",
       "      <td>41.064440</td>\n",
       "    </tr>\n",
       "    <tr>\n",
       "      <th>2</th>\n",
       "      <td>09001030300i4</td>\n",
       "      <td>21</td>\n",
       "      <td>17.0</td>\n",
       "      <td>f</td>\n",
       "      <td>09001030300h73</td>\n",
       "      <td>9</td>\n",
       "      <td>09001030100s1</td>\n",
       "      <td>9001030300</td>\n",
       "      <td>-73.489309</td>\n",
       "      <td>41.054582</td>\n",
       "    </tr>\n",
       "    <tr>\n",
       "      <th>3</th>\n",
       "      <td>09001030300i8</td>\n",
       "      <td>19</td>\n",
       "      <td>8.0</td>\n",
       "      <td>f</td>\n",
       "      <td>09001030300h198</td>\n",
       "      <td>5</td>\n",
       "      <td>09001030300s0</td>\n",
       "      <td>9001030300</td>\n",
       "      <td>-73.486755</td>\n",
       "      <td>41.045597</td>\n",
       "    </tr>\n",
       "    <tr>\n",
       "      <th>4</th>\n",
       "      <td>09001030300i13</td>\n",
       "      <td>2</td>\n",
       "      <td>14.0</td>\n",
       "      <td>m</td>\n",
       "      <td>09001030300h198</td>\n",
       "      <td>5</td>\n",
       "      <td>09001030100s1</td>\n",
       "      <td>9001030300</td>\n",
       "      <td>-73.486755</td>\n",
       "      <td>41.045597</td>\n",
       "    </tr>\n",
       "  </tbody>\n",
       "</table>\n",
       "</div>"
      ],
      "text/plain": [
       "               id  code   age sex            hhold  htype             wp  \\\n",
       "0   09001030300i1    19   9.0   f  09001030300h196      5  09001030300s2   \n",
       "1   09001030300i3     1   8.0   m  09001030300h197      5  09001030300s3   \n",
       "2   09001030300i4    21  17.0   f   09001030300h73      9  09001030100s1   \n",
       "3   09001030300i8    19   8.0   f  09001030300h198      5  09001030300s0   \n",
       "4  09001030300i13     2  14.0   m  09001030300h198      5  09001030100s1   \n",
       "\n",
       "        tract       long        lat  \n",
       "0  9001030300 -73.497305  41.057494  \n",
       "1  9001030300 -73.469835  41.064440  \n",
       "2  9001030300 -73.489309  41.054582  \n",
       "3  9001030300 -73.486755  41.045597  \n",
       "4  9001030300 -73.486755  41.045597  "
      ]
     },
     "execution_count": 33,
     "metadata": {},
     "output_type": "execute_result"
    }
   ],
   "source": [
    "pop.head()"
   ]
  },
  {
   "cell_type": "code",
   "execution_count": 34,
   "metadata": {},
   "outputs": [
    {
     "name": "stdout",
     "output_type": "stream",
     "text": [
      "creating hhold network...\n",
      "the number of edges are: 29382541\n",
      "Done creating school network, writing to hhold graph\n"
     ]
    }
   ],
   "source": [
    "print(\"creating hhold network...\")\n",
    "hhold = create_network(pop, \"hhold\")\n",
    "print(\"the number of edges are: \" + str(len(hhold.edges())))\n",
    "print(\"Done creating school network, writing to hhold graph\")"
   ]
  },
  {
   "cell_type": "code",
   "execution_count": 37,
   "metadata": {},
   "outputs": [
    {
     "name": "stdout",
     "output_type": "stream",
     "text": [
      "S1..\n",
      "S2..\n",
      "S3..\n",
      "Done!\n"
     ]
    }
   ],
   "source": [
    "print('S1..')\n",
    "nx.write_graphml(hhold, 'household/hhold.graphml')\n",
    "print('S2..')\n",
    "nx.write_gexf(hhold, 'household/hhold.gexf')\n",
    "print('S3..')\n",
    "nx.write_edgelist(hhold, 'household/hhold.edgelist')\n",
    "print(\"Done!\")"
   ]
  },
  {
   "cell_type": "code",
   "execution_count": 38,
   "metadata": {},
   "outputs": [
    {
     "name": "stdout",
     "output_type": "stream",
     "text": [
      "converting hhold network to .csv\n",
      "Done!\n"
     ]
    }
   ],
   "source": [
    "print(\"converting hhold network to .csv\")\n",
    "to_csv(hhold, \"hhold\")\n",
    "print(\"Done!\")"
   ]
  },
  {
   "cell_type": "code",
   "execution_count": 35,
   "metadata": {},
   "outputs": [],
   "source": [
    "degree_sequence = sorted([d for n, d in hhold.degree()], reverse=True)  # degree sequence\n",
    "#print (\"Degree sequence\", degree_sequence)\n",
    "degreeCount = collections.Counter(degree_sequence)\n",
    "deg, cnt = zip(*degreeCount.items())"
   ]
  },
  {
   "cell_type": "code",
   "execution_count": 36,
   "metadata": {},
   "outputs": [
    {
     "data": {
      "image/png": "[encoded data removed]",
      "text/plain": [
       "<Figure size 864x576 with 1 Axes>"
      ]
     },
     "metadata": {
      "needs_background": "light"
     },
     "output_type": "display_data"
    }
   ],
   "source": [
    "figure, ax = plt.subplots(figsize=(12, 8))\n",
    "\n",
    "plt.bar(deg, cnt, width=0.80, color='#43a2ca')\n",
    "plt.title(\"Households Network Degree Histogram\", fontsize = 20, fontname = \"Arial\")\n",
    "plt.ylabel(\"Frequency\", fontsize = 16, fontname = \"Arial\")\n",
    "plt.xlabel(\"Degree\", fontsize = 16, fontname = \"Arial\")\n",
    "\n",
    "ax.set_xticks([d for d in deg])\n",
    "ax.set_xticklabels(deg)\n",
    "\n",
    "rects = ax.patches\n",
    "\n",
    "# For each bar: Place a label\n",
    "for rect in rects:\n",
    "    # Get X and Y placement of label from rect.\n",
    "    y_value = rect.get_height()\n",
    "    x_value = rect.get_x() + rect.get_width() / 2\n",
    "\n",
    "    # Number of points between bar and label. Change to your liking.\n",
    "    space = 5\n",
    "    # Vertical alignment for positive values\n",
    "    va = 'bottom'\n",
    "\n",
    "    # If value of bar is negative: Place label below bar\n",
    "    if y_value < 0:\n",
    "        # Invert space to place label below\n",
    "        space *= -1\n",
    "        # Vertically align label at top\n",
    "        va = 'top'\n",
    "\n",
    "    # Use Y value as label and format number with one decimal place\n",
    "    label = \"{:.1f}\".format(y_value)\n",
    "\n",
    "    # Create annotation\n",
    "    plt.annotate(\n",
    "        label,                      # Use `label` as label\n",
    "        (x_value, y_value),         # Place label at end of the bar\n",
    "        xytext=(0, space),          # Vertically shift label by `space`\n",
    "        textcoords=\"offset points\", # Interpret `xytext` as offset in points\n",
    "        ha='center',                # Horizontally center label\n",
    "        va=va)                      # Vertically align label differently for\n",
    "                                    # positive and negative values."
   ]
  },
  {
   "cell_type": "code",
   "execution_count": null,
   "metadata": {},
   "outputs": [],
   "source": []
  }
 ],
 "metadata": {
  "kernelspec": {
   "display_name": "Python 3",
   "language": "python",
   "name": "python3"
  },
  "language_info": {
   "codemirror_mode": {
    "name": "ipython",
    "version": 3
   },
   "file_extension": ".py",
   "mimetype": "text/x-python",
   "name": "python",
   "nbconvert_exporter": "python",
   "pygments_lexer": "ipython3",
   "version": "3.7.4"
  }
 },
 "nbformat": 4,
 "nbformat_minor": 2
}
