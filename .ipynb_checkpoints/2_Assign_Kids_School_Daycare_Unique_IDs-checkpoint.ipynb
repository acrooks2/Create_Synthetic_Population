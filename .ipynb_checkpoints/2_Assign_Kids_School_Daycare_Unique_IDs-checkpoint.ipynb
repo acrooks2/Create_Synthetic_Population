{
 "cells": [
  {
   "cell_type": "markdown",
   "metadata": {},
   "source": [
    "# Step 2:\n",
    "# Create Unique School and Daycare IDs and Assign Kids to Schools and Daycares\n",
    "\n",
    "* Kids with age [0-3] go to Daycares\n",
    "* Kids with age [4-11] go to Elementry school\n",
    "* Kids with age [12-13] go to Middle school\n",
    "* Kids with age [14-17] go to High school"
   ]
  },
  {
   "cell_type": "code",
   "execution_count": null,
   "metadata": {},
   "outputs": [],
   "source": [
    "import geopandas as gpd\n",
    "import pandas as pd\n",
    "import numpy as np\n",
    "import random\n",
    "import timeit\n",
    "#from shapely.ops import cascaded_union\n",
    "import multiprocessing\n",
    "from math import sin, cos, sqrt, atan2, radians"
   ]
  },
  {
   "cell_type": "markdown",
   "metadata": {},
   "source": [
    "## 1, Load Data"
   ]
  },
  {
   "cell_type": "code",
   "execution_count": null,
   "metadata": {},
   "outputs": [],
   "source": [
    "#Read Data\n",
    "#Daycare\n",
    "daycare = pd.read_csv('../../Model_P/Education_ID_RID/Edu_Daycare_May.csv')"
   ]
  },
  {
   "cell_type": "code",
   "execution_count": null,
   "metadata": {},
   "outputs": [],
   "source": [
    "#School\n",
    "school = pd.read_csv('../../Model_P/Education_ID_RID/Edu_School_time_May.csv')"
   ]
  },
  {
   "cell_type": "code",
   "execution_count": null,
   "metadata": {},
   "outputs": [],
   "source": [
    "#Census Treact Boundary\n",
    "#only read two columns\n",
    "tract = gpd.read_file('../Data/Census_Cleaned.shp')#.loc[:,['GEOID10','geometry']]"
   ]
  },
  {
   "cell_type": "code",
   "execution_count": null,
   "metadata": {},
   "outputs": [],
   "source": [
    "#Population (results from Step 1)\n",
    "pop = pd.read_csv('../../Model_P/pop_full_Aug_Richard.csv')"
   ]
  },
  {
   "cell_type": "code",
   "execution_count": null,
   "metadata": {},
   "outputs": [],
   "source": [
    "census = tract.loc[:,['GEOID10','geometry']]"
   ]
  },
  {
   "cell_type": "markdown",
   "metadata": {},
   "source": [
    "## 2, Data Preprocess\n",
    "Assign Unique IDs for Schools and Daycares"
   ]
  },
  {
   "cell_type": "markdown",
   "metadata": {},
   "source": [
    "### 2.1 Change to Spatial Data"
   ]
  },
  {
   "cell_type": "code",
   "execution_count": null,
   "metadata": {},
   "outputs": [],
   "source": [
    "# From Geo Panda DataFram, change the data to spatial data\n",
    "def to_GPD(data):\n",
    "    from shapely.geometry import Point\n",
    "    #combine lat and lon column to a shapely Point() object\n",
    "    data['geometry'] = data.apply(lambda x: Point((float(x.LONGITUDE), float(x.LATITUDE))), axis=1)\n",
    "    data = gpd.GeoDataFrame(data, geometry='geometry')\n",
    "    #WGS84 Coordinate System\n",
    "    data.crs = {'init' :'epsg:4326'}\n",
    "    \n",
    "    return data"
   ]
  },
  {
   "cell_type": "code",
   "execution_count": null,
   "metadata": {},
   "outputs": [],
   "source": [
    "#set census crs into wgs84\n",
    "tract.crs = {'init' :'epsg:4326'}\n",
    "#daycare to geo spatial data\n",
    "gdc = to_GPD(daycare)\n",
    "#school\n",
    "gsch = to_GPD(school)"
   ]
  },
  {
   "cell_type": "code",
   "execution_count": null,
   "metadata": {},
   "outputs": [],
   "source": [
    "gsch.to_file('where you save files')"
   ]
  },
  {
   "cell_type": "markdown",
   "metadata": {},
   "source": [
    "### 2.2 Create Unique ID for Education Site\n",
    "Locate the schools and daycares to assign unique IDs"
   ]
  },
  {
   "cell_type": "code",
   "execution_count": null,
   "metadata": {},
   "outputs": [],
   "source": [
    "def join_edu_data(data1, data2, col_name):\n",
    "    #spatial join\n",
    "    sjdf = gpd.sjoin(data1, data2, how = \"inner\", op = 'intersects')\n",
    "\n",
    "    #Create new column with the valus of census tract ID\n",
    "    #school\n",
    "    sjdf['temp'] = sjdf.apply(lambda x:'%ss' % (x['GEOID10']),axis=1)\n",
    "    #daycare\n",
    "    #sjdf['temp'] = sjdf.apply(lambda x:'%sd' % (x['GEOID10']),axis=1)\n",
    "    \n",
    "    #create a column to count the number of education site within the census tract\n",
    "    sjdf['count'] = 0\n",
    "    \n",
    "    #group by census tract number\n",
    "    census_group = sjdf.groupby(sjdf['GEOID10'])\n",
    "    \n",
    "    #create a dataframe to hold the data\n",
    "    wp = pd.DataFrame()\n",
    "    \n",
    "    #loop through each group and get count\n",
    "    for i,j in census_group:\n",
    "        group = pd.DataFrame(j).reset_index().drop('index',axis=1)\n",
    "        for k in range (0,len(group)):\n",
    "            group.loc[k,'count'] = k\n",
    "            #print(group)\n",
    "        wp = wp.append(group,ignore_index = True)\n",
    "        \n",
    "    wp[col_name] = wp.apply(lambda x:'%s%s' % (x['temp'],x['count']),axis=1)  \n",
    "    \n",
    "    return wp"
   ]
  },
  {
   "cell_type": "markdown",
   "metadata": {},
   "source": [
    "### 2.3 Apply Spatial Join"
   ]
  },
  {
   "cell_type": "code",
   "execution_count": null,
   "metadata": {},
   "outputs": [],
   "source": [
    "#Scchool\n",
    "sch_df = join_edu_data(gsch, census, \"SchID\")\n",
    "#daycare\n",
    "dc_df = join_edu_data(gdc, census, \"dcID\")"
   ]
  },
  {
   "cell_type": "markdown",
   "metadata": {},
   "source": [
    "### 2.4 Get Kids from Population\n",
    "* All kids (go to daycares and school)\n",
    "* Find the kids that don't go to daycare (Check their parents, if their parents' workplace is their home, let thses kids stay at home)"
   ]
  },
  {
   "cell_type": "code",
   "execution_count": null,
   "metadata": {},
   "outputs": [],
   "source": [
    "#School Kids\n",
    "sch_k = pop [(pop.age >= 4) & (pop.age <= 17)].copy()\n",
    "print(len(sch_k), \" kids go to school...\")\n",
    "#Daycare Kids\n",
    "dc_k = pop [pop.age <=3 ].copy()\n",
    "print(len(dc_k), \" kids under age of 3...\")\n",
    "#Adults\n",
    "adults = pop[pop.age >= 18].copy()\n",
    "print(len(adults), \" adults...\")"
   ]
  },
  {
   "cell_type": "code",
   "execution_count": null,
   "metadata": {},
   "outputs": [],
   "source": [
    "def check_parents(kid):\n",
    "    \n",
    "    parents = adult.loc[adult.hhold == kid.hhold].copy()\n",
    "    #if wp is null means parents stay at home and take care of babies\n",
    "    if parents.wp.isnull().all():\n",
    "        return False\n",
    "    else:\n",
    "        #kids go to daycare\n",
    "        return True\n",
    "    \n",
    "def check(kid):\n",
    "    kid['Stay'] = kid.apply(check_parents,axis=1)\n",
    "    return kid"
   ]
  },
  {
   "cell_type": "code",
   "execution_count": null,
   "metadata": {},
   "outputs": [],
   "source": [
    "#Apply check parents funtion\n",
    "go_dc_k = parallelize_kid(dc_k, check)"
   ]
  },
  {
   "cell_type": "markdown",
   "metadata": {},
   "source": [
    "### 2.4 Convert Kids to Geo dataFrame"
   ]
  },
  {
   "cell_type": "code",
   "execution_count": null,
   "metadata": {},
   "outputs": [],
   "source": [
    "#Kids to Geo DataFram\n",
    "def kids_to_GPD(data):\n",
    "    #df = data[data.index.str.startswith(x)].copy()\n",
    "    print(\"Ele AGE Unique: \", data.age.unique())\n",
    "    from shapely.geometry import Point\n",
    "    data['geometry'] = data.apply(lambda x: Point((float(x.long), float(x.lat))), axis=1)\n",
    "    gdf = gpd.GeoDataFrame(data, geometry='geometry')\n",
    "    print(gdf.shape)\n",
    "    return gdf"
   ]
  },
  {
   "cell_type": "code",
   "execution_count": null,
   "metadata": {},
   "outputs": [],
   "source": [
    "#Apply Convert function\n",
    "#kids go to daycare\n",
    "g_go_dc_k = kids_to_GPD(go_dc_k)\n",
    "#kids go to school\n",
    "g_sch_k = kids_to_GPD(sch_k)\n",
    "#Add a column called tract indicating which census tract that the kid lives in\n",
    "g_sch_k['tract'] = g_sch_k['hhold'].str[0:11]"
   ]
  },
  {
   "cell_type": "markdown",
   "metadata": {},
   "source": [
    "### 2.5 Parallelize function\n",
    "apply multi processing to save time, which will be used multiple times in this code"
   ]
  },
  {
   "cell_type": "code",
   "execution_count": null,
   "metadata": {},
   "outputs": [],
   "source": [
    "def parallelize(kid, func):\n",
    "    #Cores\n",
    "    num_cores = multiprocessing.cpu_count()-1\n",
    "    num_partitions = num_cores\n",
    "    #Pools\n",
    "    pool = multiprocessing.Pool(num_cores)\n",
    "    \n",
    "    kid_split = np.array_split(kid, num_partitions)\n",
    "    \n",
    "    df = pd.concat(pool.map(func, kid_split))\n",
    "    return df\n",
    "    \n",
    "    pool.close()\n",
    "    pool.join()"
   ]
  },
  {
   "cell_type": "markdown",
   "metadata": {},
   "source": [
    "## 3, Assign Daycare ID and School ID"
   ]
  },
  {
   "cell_type": "markdown",
   "metadata": {},
   "source": [
    "### 3.1 Function to calculate the great circle distance\n",
    "The reasons why we create this funtion is due the distance function from geopandas package is not giving us the right result. To fix the issue, we create a new distance function.\n",
    "\n",
    "If yours works fine, you don't have to do this."
   ]
  },
  {
   "cell_type": "code",
   "execution_count": null,
   "metadata": {},
   "outputs": [],
   "source": [
    "def new_distance(x1, y1, x2, y2):\n",
    "    # approximate radius of earth in km\n",
    "    R = 6373.0\n",
    "    \n",
    "    lat1 = radians (x1)\n",
    "    long1 = radians (y1)\n",
    "    lat2 = radians(x2)\n",
    "    long2 = radians(y2)\n",
    "    \n",
    "    dlon = long2 - long1\n",
    "    dlat = lat2 - lat1\n",
    "    \n",
    "    a = sin(dlat / 2)**2 + cos(lat1) * cos(lat2) * sin(dlon / 2)**2\n",
    "    c = 2 * atan2(sqrt(a), sqrt(1 - a))\n",
    "\n",
    "    distance = R * c\n",
    "    return distance"
   ]
  },
  {
   "cell_type": "markdown",
   "metadata": {},
   "source": [
    "### 3.2 Assign School and DaycareID function"
   ]
  },
  {
   "cell_type": "code",
   "execution_count": null,
   "metadata": {},
   "outputs": [],
   "source": [
    "census = tract.loc[:,['GEOID10','geometry']].set_index('GEOID10')\n",
    "\n",
    "def assign_school(data, census, school):\n",
    "    # Kids Lat and Long \n",
    "    x = data.lat\n",
    "    y = data.long\n",
    "    \n",
    "    #Kid Age\n",
    "    kid_age = data.age\n",
    "    #print(kid_age)\n",
    "    \n",
    "    #Kids Census tract geometry\n",
    "    tract = str(data.tract)\n",
    "    #print(tract)\n",
    "    tract_geometry = census.loc[data.tract, 'geometry']\n",
    "    \n",
    "    #print(tract_geometry)\n",
    "    buff = tract_geometry.buffer(0.08)\n",
    "    \n",
    "    #Find the Right Type of School For this child\n",
    "    sch_Age = school[(school['S_age'] <= kid_age) & (school['E_age'] >= kid_age)]\n",
    "       \n",
    "    #Find Intersected schools\n",
    "    s_in = sch_Age[sch_Age.intersects(buff)].copy()\n",
    "    #print(len(s_in))\n",
    "    \n",
    "    #Intersect Road Point Lat list\n",
    "    sx = s_in.loc[:,'LATITUDE'].tolist()\n",
    "    #Intersect Road Point Long list\n",
    "    sy = s_in.loc[:, 'LONGITUDE'].tolist()\n",
    "    \n",
    "    #Calculate Distance between the point and intersected road points \n",
    "    dist = [] #distance list\n",
    "    for j in range(0, len(s_in)):\n",
    "        d = new_distance(x, y, sx[j], sy[j])\n",
    "        dist.append(d)\n",
    "        \n",
    "    #school ID list    \n",
    "    sid = s_in.loc[:,'scolID']\n",
    "    \n",
    "    #Create DF to hold the School ID an the theire distance to Kids\n",
    "    df_sch_in = pd.DataFrame({'scolID': sid, 'Dist':dist}).sort_values(by='Dist')\n",
    "    \n",
    "    sch_AgeDistAccept = [s for s in df_sch_in.index if school.loc[s, 'current'] < school.loc[s, 'ENROLLMENT']]\n",
    "    #print(sch_AgeDistAccept)\n",
    "    \n",
    "    if sch_AgeDistAccept != []:\n",
    "        j = sch_AgeDistAccept[0]\n",
    "        \n",
    "        return df_sch_in.loc[j, 'scolID']\n",
    "    else:\n",
    "        return random.choice(sid)\n",
    "    \n",
    "    school.loc[sch_id, 'current'] += 1\n",
    "    \n",
    "    #return df_sch_in.iloc[0, 0]\n",
    "    \n",
    "#Test\n",
    "#test = g_sch_k.iloc[:100,1:]\n",
    "#test['tract'] = test['hhold'].str[0:11]\n",
    "#test['wp'] = test.apply(assign_school,args=(census, gsch),axis=1)\n",
    "#test"
   ]
  },
  {
   "cell_type": "markdown",
   "metadata": {},
   "source": [
    "### 3.3 Apply Assign School ID funtion"
   ]
  },
  {
   "cell_type": "code",
   "execution_count": null,
   "metadata": {},
   "outputs": [],
   "source": [
    "def assign_ID(data):\n",
    "    test['wp'] = data.apply(assign_school,args=(census, gsch),axis=1)\n",
    "    return data\n",
    "\n",
    "def parallelize(data, func):\n",
    "    #Cores\n",
    "    num_cores = 7\n",
    "    num_partitions = num_cores\n",
    "    #Split\n",
    "    data_split = np.array_split(data, num_partitions)\n",
    "    #Pools\n",
    "    pool = multiprocessing.Pool(num_cores)\n",
    "    \n",
    "    df = pd.concat(pool.map(func, data_split))\n",
    "    return df\n",
    "\n",
    "    pool.close()\n",
    "    pool.join()\n",
    "    \n",
    "if __name__=='__main__':\n",
    "    print('Start running...')\n",
    "    #set timer\n",
    "    start_time = timeit.default_timer()\n",
    "    \n",
    "    #appl\n",
    "    g_sch_k['tract'] = g_sch_k['hhold'].str[0:11]\n",
    "    print(g_sch_k.head())\n",
    "    \n",
    "    n_g_sch_k = parallelize(g_sch_k, assign_ID)\n",
    "    \n",
    "    elapsed = timeit.default_timer() - start_time\n",
    "    print(\"Total Time(s):\", elapsed)\n",
    "    print('End program')"
   ]
  }
 ],
 "metadata": {
  "kernelspec": {
   "display_name": "Python 3",
   "language": "python",
   "name": "python3"
  },
  "language_info": {
   "codemirror_mode": {
    "name": "ipython",
    "version": 3
   },
   "file_extension": ".py",
   "mimetype": "text/x-python",
   "name": "python",
   "nbconvert_exporter": "python",
   "pygments_lexer": "ipython3",
   "version": "3.7.4"
  }
 },
 "nbformat": 4,
 "nbformat_minor": 2
}
